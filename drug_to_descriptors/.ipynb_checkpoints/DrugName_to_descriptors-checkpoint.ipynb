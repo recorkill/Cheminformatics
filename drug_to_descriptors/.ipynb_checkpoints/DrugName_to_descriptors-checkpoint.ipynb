{
 "cells": [
  {
   "cell_type": "markdown",
   "id": "c8948a43",
   "metadata": {},
   "source": [
    "# Generating Chemical Features from a Drug/Chemical Name"
   ]
  },
  {
   "cell_type": "code",
   "execution_count": 1,
   "id": "9b56a8a5",
   "metadata": {},
   "outputs": [],
   "source": [
    "import pandas as pd\n",
    "import matplotlib as plt\n",
    "import numpy as np\n",
    "from pubchempy import Compound, get_compounds\n",
    "from rdkit import Chem, DataStructs\n",
    "from rdkit.Chem import Descriptors, Draw\n",
    "from rdkit.Chem.rdmolops import GetFormalCharge\n",
    "\n",
    "from urllib.request import urlopen\n",
    "from urllib.parse import quote"
   ]
  },
  {
   "cell_type": "markdown",
   "id": "8390b3a6",
   "metadata": {},
   "source": [
    "Pubchempy allows us to communicate with the PubChem servers. We will attempt to extract SMILES strings from the NIH's CACTUS tool, but chemicals that fail to match may be resolved by PubChem."
   ]
  },
  {
   "cell_type": "code",
   "execution_count": 2,
   "id": "a9195945",
   "metadata": {},
   "outputs": [],
   "source": [
    "def PubChem_SMILES(name):\n",
    "    for compound in get_compounds(name, 'name'):\n",
    "        smiles = compound.isomeric_smiles\n",
    "        return smiles\n",
    "\n",
    "def to_SMILES(ids):\n",
    "    try:\n",
    "        url = 'http://cactus.nci.nih.gov/chemical/structure/' + quote(ids) + '/smiles'\n",
    "        ans = urlopen(url).read().decode('utf8')\n",
    "        return ans\n",
    "    except:\n",
    "        try: #Catches names that aren't in CACTUS and are in PubChem\n",
    "            ans2 = PubChem_SMILES(ids)\n",
    "            return ans2\n",
    "        except:\n",
    "            return 'Did not work'"
   ]
  },
  {
   "cell_type": "markdown",
   "id": "460908a6",
   "metadata": {},
   "source": [
    "The above functions convert a chemical name to a SMILES string, which represents its chemical formula. While the function first attempts to get the SMILES string from NIH's CACTUS tool, which generally seems to have greater success matching terms, failures can be resolved by PubChem. This generally seems to apply for more medical, less chemical entries (e.g., \"ivacaftor\" which is a drug, but chemically the name is non-descript). "
   ]
  },
  {
   "cell_type": "code",
   "execution_count": 3,
   "id": "25ba8253",
   "metadata": {},
   "outputs": [],
   "source": [
    "df = pd.DataFrame()"
   ]
  },
  {
   "cell_type": "code",
   "execution_count": 4,
   "id": "7a1d6944",
   "metadata": {},
   "outputs": [
    {
     "data": {
      "text/html": [
       "<div>\n",
       "<style scoped>\n",
       "    .dataframe tbody tr th:only-of-type {\n",
       "        vertical-align: middle;\n",
       "    }\n",
       "\n",
       "    .dataframe tbody tr th {\n",
       "        vertical-align: top;\n",
       "    }\n",
       "\n",
       "    .dataframe thead th {\n",
       "        text-align: right;\n",
       "    }\n",
       "</style>\n",
       "<table border=\"1\" class=\"dataframe\">\n",
       "  <thead>\n",
       "    <tr style=\"text-align: right;\">\n",
       "      <th></th>\n",
       "    </tr>\n",
       "  </thead>\n",
       "  <tbody>\n",
       "  </tbody>\n",
       "</table>\n",
       "</div>"
      ],
      "text/plain": [
       "Empty DataFrame\n",
       "Columns: []\n",
       "Index: []"
      ]
     },
     "execution_count": 4,
     "metadata": {},
     "output_type": "execute_result"
    }
   ],
   "source": [
    "df"
   ]
  },
  {
   "cell_type": "code",
   "execution_count": 5,
   "id": "ab101209",
   "metadata": {},
   "outputs": [
    {
     "data": {
      "text/html": [
       "<div>\n",
       "<style scoped>\n",
       "    .dataframe tbody tr th:only-of-type {\n",
       "        vertical-align: middle;\n",
       "    }\n",
       "\n",
       "    .dataframe tbody tr th {\n",
       "        vertical-align: top;\n",
       "    }\n",
       "\n",
       "    .dataframe thead th {\n",
       "        text-align: right;\n",
       "    }\n",
       "</style>\n",
       "<table border=\"1\" class=\"dataframe\">\n",
       "  <thead>\n",
       "    <tr style=\"text-align: right;\">\n",
       "      <th></th>\n",
       "      <th>Drug Name</th>\n",
       "    </tr>\n",
       "  </thead>\n",
       "  <tbody>\n",
       "    <tr>\n",
       "      <th>0</th>\n",
       "      <td>isoproterenol</td>\n",
       "    </tr>\n",
       "    <tr>\n",
       "      <th>1</th>\n",
       "      <td>genistein</td>\n",
       "    </tr>\n",
       "    <tr>\n",
       "      <th>2</th>\n",
       "      <td>niflumic acid</td>\n",
       "    </tr>\n",
       "    <tr>\n",
       "      <th>3</th>\n",
       "      <td>glyburide</td>\n",
       "    </tr>\n",
       "    <tr>\n",
       "      <th>4</th>\n",
       "      <td>staurosporine</td>\n",
       "    </tr>\n",
       "    <tr>\n",
       "      <th>5</th>\n",
       "      <td>ivacaftor</td>\n",
       "    </tr>\n",
       "    <tr>\n",
       "      <th>6</th>\n",
       "      <td>lumacaftor</td>\n",
       "    </tr>\n",
       "  </tbody>\n",
       "</table>\n",
       "</div>"
      ],
      "text/plain": [
       "       Drug Name\n",
       "0  isoproterenol\n",
       "1      genistein\n",
       "2  niflumic acid\n",
       "3      glyburide\n",
       "4  staurosporine\n",
       "5      ivacaftor\n",
       "6     lumacaftor"
      ]
     },
     "execution_count": 5,
     "metadata": {},
     "output_type": "execute_result"
    }
   ],
   "source": [
    "df['Drug Name'] = ['isoproterenol', 'genistein', 'niflumic acid', 'glyburide', 'staurosporine', 'ivacaftor', 'lumacaftor']\n",
    "df"
   ]
  },
  {
   "cell_type": "markdown",
   "id": "12c6e3d1",
   "metadata": {},
   "source": [
    "The drug list used for this example is that returned by DMAP when the term \"cystic fibrosis\" is searched, with the addition of \"ivacaftor\" and \"lumacaftor\" from DrugBank"
   ]
  },
  {
   "cell_type": "code",
   "execution_count": 6,
   "id": "4d270d20",
   "metadata": {},
   "outputs": [
    {
     "data": {
      "text/html": [
       "<div>\n",
       "<style scoped>\n",
       "    .dataframe tbody tr th:only-of-type {\n",
       "        vertical-align: middle;\n",
       "    }\n",
       "\n",
       "    .dataframe tbody tr th {\n",
       "        vertical-align: top;\n",
       "    }\n",
       "\n",
       "    .dataframe thead th {\n",
       "        text-align: right;\n",
       "    }\n",
       "</style>\n",
       "<table border=\"1\" class=\"dataframe\">\n",
       "  <thead>\n",
       "    <tr style=\"text-align: right;\">\n",
       "      <th></th>\n",
       "      <th>Drug Name</th>\n",
       "      <th>Smiles</th>\n",
       "    </tr>\n",
       "  </thead>\n",
       "  <tbody>\n",
       "    <tr>\n",
       "      <th>0</th>\n",
       "      <td>isoproterenol</td>\n",
       "      <td>CC(C)NCC(O)c1ccc(O)c(O)c1</td>\n",
       "    </tr>\n",
       "    <tr>\n",
       "      <th>1</th>\n",
       "      <td>genistein</td>\n",
       "      <td>Oc1ccc(cc1)C2=COc3cc(O)cc(O)c3C2=O</td>\n",
       "    </tr>\n",
       "    <tr>\n",
       "      <th>2</th>\n",
       "      <td>niflumic acid</td>\n",
       "      <td>OC(=O)c1cccnc1Nc2cccc(c2)C(F)(F)F</td>\n",
       "    </tr>\n",
       "    <tr>\n",
       "      <th>3</th>\n",
       "      <td>glyburide</td>\n",
       "      <td>COc1ccc(Cl)cc1C(=O)NCCc2ccc(cc2)[S](=O)(=O)NC(...</td>\n",
       "    </tr>\n",
       "    <tr>\n",
       "      <th>4</th>\n",
       "      <td>staurosporine</td>\n",
       "      <td>CN[C@@H]1C[C@H]2O[C@@](C)([C@@H]1OC)n3c4ccccc4...</td>\n",
       "    </tr>\n",
       "    <tr>\n",
       "      <th>5</th>\n",
       "      <td>ivacaftor</td>\n",
       "      <td>CC(C)(C)C1=CC(=C(C=C1NC(=O)C2=CNC3=CC=CC=C3C2=...</td>\n",
       "    </tr>\n",
       "    <tr>\n",
       "      <th>6</th>\n",
       "      <td>lumacaftor</td>\n",
       "      <td>CC1=C(N=C(C=C1)NC(=O)C2(CC2)C3=CC4=C(C=C3)OC(O...</td>\n",
       "    </tr>\n",
       "  </tbody>\n",
       "</table>\n",
       "</div>"
      ],
      "text/plain": [
       "       Drug Name                                             Smiles\n",
       "0  isoproterenol                          CC(C)NCC(O)c1ccc(O)c(O)c1\n",
       "1      genistein                 Oc1ccc(cc1)C2=COc3cc(O)cc(O)c3C2=O\n",
       "2  niflumic acid                  OC(=O)c1cccnc1Nc2cccc(c2)C(F)(F)F\n",
       "3      glyburide  COc1ccc(Cl)cc1C(=O)NCCc2ccc(cc2)[S](=O)(=O)NC(...\n",
       "4  staurosporine  CN[C@@H]1C[C@H]2O[C@@](C)([C@@H]1OC)n3c4ccccc4...\n",
       "5      ivacaftor  CC(C)(C)C1=CC(=C(C=C1NC(=O)C2=CNC3=CC=CC=C3C2=...\n",
       "6     lumacaftor  CC1=C(N=C(C=C1)NC(=O)C2(CC2)C3=CC4=C(C=C3)OC(O..."
      ]
     },
     "execution_count": 6,
     "metadata": {},
     "output_type": "execute_result"
    }
   ],
   "source": [
    "df['Smiles'] = [to_SMILES(item) for item in df['Drug Name']] #Generate SMILES string for each drug name\n",
    "df"
   ]
  },
  {
   "cell_type": "markdown",
   "id": "492c234f",
   "metadata": {},
   "source": [
    "## Generating 2D Features"
   ]
  },
  {
   "cell_type": "code",
   "execution_count": 10,
   "id": "5e2cc096",
   "metadata": {},
   "outputs": [
    {
     "data": {
      "text/html": [
       "<div>\n",
       "<style scoped>\n",
       "    .dataframe tbody tr th:only-of-type {\n",
       "        vertical-align: middle;\n",
       "    }\n",
       "\n",
       "    .dataframe tbody tr th {\n",
       "        vertical-align: top;\n",
       "    }\n",
       "\n",
       "    .dataframe thead th {\n",
       "        text-align: right;\n",
       "    }\n",
       "</style>\n",
       "<table border=\"1\" class=\"dataframe\">\n",
       "  <thead>\n",
       "    <tr style=\"text-align: right;\">\n",
       "      <th></th>\n",
       "      <th>Drug Name</th>\n",
       "      <th>Smiles</th>\n",
       "      <th>Mol. Wt.</th>\n",
       "      <th>H-bond Donors</th>\n",
       "      <th>PSA</th>\n",
       "      <th>ASA</th>\n",
       "      <th>MolLogP</th>\n",
       "      <th>Rotatable Bonds</th>\n",
       "    </tr>\n",
       "  </thead>\n",
       "  <tbody>\n",
       "    <tr>\n",
       "      <th>0</th>\n",
       "      <td>isoproterenol</td>\n",
       "      <td>CC(C)NCC(O)c1ccc(O)c(O)c1</td>\n",
       "      <td>211.261</td>\n",
       "      <td>4</td>\n",
       "      <td>72.72</td>\n",
       "      <td>89.188677</td>\n",
       "      <td>1.12920</td>\n",
       "      <td>4</td>\n",
       "    </tr>\n",
       "    <tr>\n",
       "      <th>1</th>\n",
       "      <td>genistein</td>\n",
       "      <td>Oc1ccc(cc1)C2=COc3cc(O)cc(O)c3C2=O</td>\n",
       "      <td>270.240</td>\n",
       "      <td>3</td>\n",
       "      <td>90.90</td>\n",
       "      <td>112.519202</td>\n",
       "      <td>2.57680</td>\n",
       "      <td>1</td>\n",
       "    </tr>\n",
       "    <tr>\n",
       "      <th>2</th>\n",
       "      <td>niflumic acid</td>\n",
       "      <td>OC(=O)c1cccnc1Nc2cccc(c2)C(F)(F)F</td>\n",
       "      <td>282.221</td>\n",
       "      <td>2</td>\n",
       "      <td>62.22</td>\n",
       "      <td>111.440254</td>\n",
       "      <td>3.54220</td>\n",
       "      <td>3</td>\n",
       "    </tr>\n",
       "    <tr>\n",
       "      <th>3</th>\n",
       "      <td>glyburide</td>\n",
       "      <td>COc1ccc(Cl)cc1C(=O)NCCc2ccc(cc2)[S](=O)(=O)NC(...</td>\n",
       "      <td>494.013</td>\n",
       "      <td>3</td>\n",
       "      <td>113.60</td>\n",
       "      <td>198.647248</td>\n",
       "      <td>3.64170</td>\n",
       "      <td>8</td>\n",
       "    </tr>\n",
       "    <tr>\n",
       "      <th>4</th>\n",
       "      <td>staurosporine</td>\n",
       "      <td>CN[C@@H]1C[C@H]2O[C@@](C)([C@@H]1OC)n3c4ccccc4...</td>\n",
       "      <td>466.541</td>\n",
       "      <td>2</td>\n",
       "      <td>69.45</td>\n",
       "      <td>201.116590</td>\n",
       "      <td>4.35400</td>\n",
       "      <td>2</td>\n",
       "    </tr>\n",
       "    <tr>\n",
       "      <th>5</th>\n",
       "      <td>ivacaftor</td>\n",
       "      <td>CC(C)(C)C1=CC(=C(C=C1NC(=O)C2=CNC3=CC=CC=C3C2=...</td>\n",
       "      <td>392.499</td>\n",
       "      <td>3</td>\n",
       "      <td>82.19</td>\n",
       "      <td>170.341429</td>\n",
       "      <td>5.08100</td>\n",
       "      <td>2</td>\n",
       "    </tr>\n",
       "    <tr>\n",
       "      <th>6</th>\n",
       "      <td>lumacaftor</td>\n",
       "      <td>CC1=C(N=C(C=C1)NC(=O)C2(CC2)C3=CC4=C(C=C3)OC(O...</td>\n",
       "      <td>452.413</td>\n",
       "      <td>2</td>\n",
       "      <td>97.75</td>\n",
       "      <td>186.533473</td>\n",
       "      <td>4.74702</td>\n",
       "      <td>5</td>\n",
       "    </tr>\n",
       "  </tbody>\n",
       "</table>\n",
       "</div>"
      ],
      "text/plain": [
       "       Drug Name                                             Smiles  Mol. Wt.  \\\n",
       "0  isoproterenol                          CC(C)NCC(O)c1ccc(O)c(O)c1   211.261   \n",
       "1      genistein                 Oc1ccc(cc1)C2=COc3cc(O)cc(O)c3C2=O   270.240   \n",
       "2  niflumic acid                  OC(=O)c1cccnc1Nc2cccc(c2)C(F)(F)F   282.221   \n",
       "3      glyburide  COc1ccc(Cl)cc1C(=O)NCCc2ccc(cc2)[S](=O)(=O)NC(...   494.013   \n",
       "4  staurosporine  CN[C@@H]1C[C@H]2O[C@@](C)([C@@H]1OC)n3c4ccccc4...   466.541   \n",
       "5      ivacaftor  CC(C)(C)C1=CC(=C(C=C1NC(=O)C2=CNC3=CC=CC=C3C2=...   392.499   \n",
       "6     lumacaftor  CC1=C(N=C(C=C1)NC(=O)C2(CC2)C3=CC4=C(C=C3)OC(O...   452.413   \n",
       "\n",
       "   H-bond Donors     PSA         ASA  MolLogP  Rotatable Bonds  \n",
       "0              4   72.72   89.188677  1.12920                4  \n",
       "1              3   90.90  112.519202  2.57680                1  \n",
       "2              2   62.22  111.440254  3.54220                3  \n",
       "3              3  113.60  198.647248  3.64170                8  \n",
       "4              2   69.45  201.116590  4.35400                2  \n",
       "5              3   82.19  170.341429  5.08100                2  \n",
       "6              2   97.75  186.533473  4.74702                5  "
      ]
     },
     "execution_count": 10,
     "metadata": {},
     "output_type": "execute_result"
    }
   ],
   "source": [
    "molecules = [Chem.MolFromSmiles(item) for item in df['Smiles']]\n",
    "\n",
    "#Generate 2D features for each compound\n",
    "df['Mol. Wt.'] = [Descriptors.MolWt(i) for i in molecules]\n",
    "df['H-bond Donors'] = [Descriptors.NumHDonors(i) for i in molecules]\n",
    "df['PSA'] = [Descriptors.TPSA(i) for i in molecules]\n",
    "df['ASA'] = [Descriptors.LabuteASA(i) for i in molecules]\n",
    "df['MolLogP'] = [Descriptors.MolLogP(i) for i in molecules]\n",
    "df['Rotatable Bonds'] = [Descriptors.NumRotatableBonds(i) for i in molecules]\n",
    "\n",
    "df"
   ]
  },
  {
   "cell_type": "code",
   "execution_count": null,
   "id": "3080f60f",
   "metadata": {},
   "outputs": [],
   "source": []
  },
  {
   "cell_type": "markdown",
   "id": "e1fa2e0a",
   "metadata": {},
   "source": [
    "## Generating Similarity Information"
   ]
  },
  {
   "cell_type": "code",
   "execution_count": 11,
   "id": "d2442d4a",
   "metadata": {},
   "outputs": [],
   "source": [
    "def find_nearest_match(smiles, greatest_similarity = 0, nearest_match = 'None'):\n",
    "    search_mol = Chem.MolFromSmiles(smiles)\n",
    "    search_fingerprint = Chem.RDKFingerprint(search_mol)\n",
    "    for item in df['Smiles']:\n",
    "        item_as_mol = Chem.MolFromSmiles(item)\n",
    "        item_as_fingerprint = Chem.RDKFingerprint(item_as_mol)\n",
    "        similarity = DataStructs.FingerprintSimilarity(search_fingerprint,item_as_fingerprint)\n",
    "        if similarity > greatest_similarity:\n",
    "            greatest_similarity = round(similarity, 3)\n",
    "            nearest_match = item\n",
    "    if similarity == 1:\n",
    "        return_phrase = \"This molecule is present in the dataset\"\n",
    "    else:\n",
    "        return_phrase = \"The nearest match is \" + str(nearest_match) + \" with a Tanimoto similarity of \" + str(greatest_similarity)\n",
    "    print(return_phrase)\n",
    "    \n",
    "def nearest_match(smiles, greatest_similarity = 0, nearest_match = 'None'):\n",
    "    search_mol = Chem.MolFromSmiles(smiles)\n",
    "    search_fingerprint = Chem.RDKFingerprint(search_mol)\n",
    "    for item in df['Smiles']:\n",
    "        item_as_mol = Chem.MolFromSmiles(item)\n",
    "        item_as_fingerprint = Chem.RDKFingerprint(item_as_mol)\n",
    "        similarity = DataStructs.FingerprintSimilarity(search_fingerprint,item_as_fingerprint)\n",
    "        if similarity > greatest_similarity:\n",
    "            greatest_similarity = round(similarity, 3)\n",
    "            nearest_match = item\n",
    "    return (str(nearest_match), str(greatest_similarity))\n",
    "    \n",
    "def match_printout(smiles):\n",
    "    nearest_smiles = (nearest_match(smiles)[0])\n",
    "    near_match = (nearest_match(smiles)[1])\n",
    "    molecule1 = Chem.MolFromSmiles(smiles)\n",
    "    molecule2 = Chem.MolFromSmiles(nearest_smiles)\n",
    "    if near_match == '1.0':\n",
    "        legend_phrase = str('Exact match. ' + smiles + ' is currently present in the dataset.')\n",
    "        print(legend_phrase)\n",
    "        return Draw.MolToImage(molecule1)\n",
    "    else:\n",
    "        legend_phrase = str('The nearest match to ' + smiles + ' (left) in the dataset is ' + nearest_smiles + ' (right).\\nSimilarity index: ' + near_match)\n",
    "        print(legend_phrase)\n",
    "        return Draw.MolsToGridImage((molecule1, molecule2), molsPerRow=2,subImgSize=(200,200))"
   ]
  },
  {
   "cell_type": "markdown",
   "id": "73135a19",
   "metadata": {},
   "source": [
    "The functions above allow for examining the Tanimoto similarity of drug molecules. As it is currently assembled, a SMILES is used as input, which is then converted to a molecular fingerprint and compared to the molecules in our database (in this case, only 7 different drugs). This could be modified to assess similiar drugs in a much larger database (e.g., PubChem) to find similiar molecules. "
   ]
  },
  {
   "cell_type": "markdown",
   "id": "661ec714",
   "metadata": {},
   "source": [
    "### Example of using similarity"
   ]
  },
  {
   "cell_type": "markdown",
   "id": "92611be4",
   "metadata": {},
   "source": [
    "Isoprotenol, a drug on our list is structurally similiar to epinephrine. If epinephrine is searched, it should return isoprotenol - CC(C)NCC(O)c1ccc(O)c(O)c1 - from our list. "
   ]
  },
  {
   "cell_type": "code",
   "execution_count": 12,
   "id": "18d246e1",
   "metadata": {},
   "outputs": [
    {
     "name": "stdout",
     "output_type": "stream",
     "text": [
      "CNC[C@H](O)c1ccc(O)c(O)c1\n"
     ]
    }
   ],
   "source": [
    "epinephrine_SMILES = to_SMILES('epinephrine')\n",
    "print(epinephrine_SMILES)"
   ]
  },
  {
   "cell_type": "code",
   "execution_count": 13,
   "id": "164a0b26",
   "metadata": {},
   "outputs": [
    {
     "name": "stdout",
     "output_type": "stream",
     "text": [
      "The nearest match is CC(C)NCC(O)c1ccc(O)c(O)c1 with a Tanimoto similarity of 0.916\n"
     ]
    }
   ],
   "source": [
    "find_nearest_match(epinephrine_SMILES)"
   ]
  },
  {
   "cell_type": "code",
   "execution_count": 14,
   "id": "910ccbfc",
   "metadata": {},
   "outputs": [
    {
     "name": "stdout",
     "output_type": "stream",
     "text": [
      "The nearest match to CNC[C@H](O)c1ccc(O)c(O)c1 (left) in the dataset is CC(C)NCC(O)c1ccc(O)c(O)c1 (right).\n",
      "Similarity index: 0.916\n"
     ]
    },
    {
     "data": {
      "image/png": "[encoded data removed]",
      "text/plain": [
       "<IPython.core.display.Image object>"
      ]
     },
     "execution_count": 14,
     "metadata": {},
     "output_type": "execute_result"
    }
   ],
   "source": [
    "match_printout(epinephrine_SMILES)"
   ]
  },
  {
   "cell_type": "code",
   "execution_count": null,
   "id": "de067c8c",
   "metadata": {},
   "outputs": [],
   "source": []
  }
 ],
 "metadata": {
  "kernelspec": {
   "display_name": "Python 3 (ipykernel)",
   "language": "python",
   "name": "python3"
  },
  "language_info": {
   "codemirror_mode": {
    "name": "ipython",
    "version": 3
   },
   "file_extension": ".py",
   "mimetype": "text/x-python",
   "name": "python",
   "nbconvert_exporter": "python",
   "pygments_lexer": "ipython3",
   "version": "3.9.12"
  }
 },
 "nbformat": 4,
 "nbformat_minor": 5
}
